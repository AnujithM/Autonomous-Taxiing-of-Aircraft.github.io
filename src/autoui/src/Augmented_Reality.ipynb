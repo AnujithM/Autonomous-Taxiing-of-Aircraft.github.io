{
 "cells": [
  {
   "cell_type": "code",
   "execution_count": null,
   "metadata": {},
   "outputs": [],
   "source": [
    "import cv2\n",
    "import rospy\n",
    "import pandas as pd\n",
    "import numpy as np\n",
    "import time\n",
    "import math\n",
    "import threading\n",
    "import keyboard\n",
    "from sklearn.linear_model import LinearRegression\n",
    "from nav_msgs.msg import Odometry\n",
    "from tf.transformations import euler_from_quaternion, quaternion_from_euler\n",
    "import actionlib\n",
    "from move_base_msgs.msg import MoveBaseAction, MoveBaseGoal\n",
    "from visualization_msgs.msg import Marker \n",
    "from visualization_msgs.msg import MarkerArray \n",
    "from geometry_msgs.msg import Point \n",
    "import roslib\n",
    "import tf.transformations\n",
    "from geometry_msgs.msg import Twist, PolygonStamped"
   ]
  },
  {
   "cell_type": "code",
   "execution_count": null,
   "metadata": {},
   "outputs": [],
   "source": [
    "TB_xy = [] # list to store the Turtlebot xy for corresponding screen click point\n",
    "ScreenXY = [] # list of Screen Click (x pixel , y pixel) vector \n",
    "xt = 0.0\n",
    "yt = 0.0"
   ]
  },
  {
   "cell_type": "code",
   "execution_count": null,
   "metadata": {},
   "outputs": [],
   "source": [
    "def newOdom (msg):\n",
    "    global xt\n",
    "    global yt\n",
    "    #p = PolygonStamped()\n",
    "    x0 = msg.polygon.points[0].x\n",
    "    y0 = msg.polygon.points[0].y\n",
    "    x1 = msg.polygon.points[1].x\n",
    "    y1 = msg.polygon.points[1].y\n",
    "    x2 = msg.polygon.points[2].x\n",
    "    y2 = msg.polygon.points[2].y\n",
    "    x3 = msg.polygon.points[3].x\n",
    "    y3 = msg.polygon.points[3].y\n",
    "\n",
    "    v = [ [ x0, y0],\n",
    "    [ x1, y1],\n",
    "    [ x2, y2 ],\n",
    "    [x3, y3] ]\n",
    "\n",
    "    ans = [0, 0]\n",
    "\n",
    "    n = len(v)\n",
    "    signedArea = 0\n",
    "\n",
    "    # For all vertices\n",
    "    for i in range(len(v)):\n",
    "\n",
    "        x0 = v[i][0]\n",
    "        y0 = v[i][1]\n",
    "        x1 = v[(i + 1) % n][0]\n",
    "        y1 =v[(i + 1) % n][1]\n",
    "\n",
    "        # Calculate value of A\n",
    "        # using shoelace formula\n",
    "        A = (x0 * y1) - (x1 * y0)\n",
    "        signedArea += A\n",
    "\n",
    "        # Calculating coordinates of\n",
    "        # centroid of polygon\n",
    "        ans[0] += (x0 + x1) * A\n",
    "        ans[1] += (y0 + y1) * A\n",
    "\n",
    "    signedArea *= 0.5\n",
    "    xt = (ans[0]) / (6 * signedArea)\n",
    "    yt = (ans[1]) / (6 * signedArea)\n",
    "    #print(x,y)\n",
    "    return"
   ]
  },
  {
   "cell_type": "code",
   "execution_count": null,
   "metadata": {},
   "outputs": [],
   "source": [
    "def click_event(event, x, y, flags, params):\n",
    "    if event == cv2.EVENT_RBUTTONDOWN:\n",
    "        print(\"Right clicked\")\n",
    "        print(\"Screen at pos\",x,y)\n",
    "        print(\"TB at pos\",xt,yt)\n",
    "        ScreenXY.append((x,y))\n",
    "        TB_xy.append((xt,yt))\n",
    "    if event == cv2.EVENT_LBUTTONDOWN:\n",
    "        print(\"Left Clicked\")\n",
    "        print(\"Screen at pos\",x,y)\n",
    "        print(\"TB at pos\",xt,yt)\n",
    "        #Predict and move turtlebot"
   ]
  },
  {
   "cell_type": "code",
   "execution_count": null,
   "metadata": {},
   "outputs": [],
   "source": [
    "sub = rospy.Subscriber('/move_base/global_costmap/footprint', PolygonStamped, newOdom)\n",
    "rospy.init_node('movebase_client')\n",
    "\n",
    "cap = cv2.VideoCapture(0)\n",
    "# The device number might be 0 or 1 depending on the device and the webcam\n",
    "# cap.set(3, 1280)\n",
    "# cap.set(4, 720)\n",
    "\n",
    "# variables \n",
    "pTime = 0\n",
    "cTime = 0\n",
    "global skipframes\n",
    "# skipframes = True\n",
    "\n",
    "pausefollow = False\n",
    "\n",
    "while(len(TB_xy)<10):\n",
    "    success, img = cap.read()\n",
    "    frame = img.copy()\n",
    "    img = cv2.resize(img,(1280,720))\n",
    "    # print(f\"size of img = {img.shape[1]},{img.shape[0]}\")\n",
    "\n",
    "    # Calculating frames per second\n",
    "    cTime = time.time()\n",
    "    fps = 1 / (cTime - pTime)\n",
    "    pTime = cTime\n",
    "\n",
    "    cv2.putText(img, str(int(fps)), (10, 70), cv2.FONT_HERSHEY_PLAIN, 3,(255, 0, 255), 3)\n",
    "\n",
    "    # click event for mapping screen xy to dobot xy using linear regression\n",
    "    # left click for ptp motion and right click to record screen and dobot xy for mapping \n",
    "    cv2.namedWindow('Image',cv2.WINDOW_FULLSCREEN)\n",
    "    cv2.setMouseCallback('Image', click_event)\n",
    "\n",
    "    cv2.imshow('Image', img)\n",
    "    if cv2.waitKey(1) == 27:\n",
    "        break\n",
    "cap.release()\n",
    "cv2.destroyAllWindows()"
   ]
  },
  {
   "cell_type": "code",
   "execution_count": null,
   "metadata": {},
   "outputs": [],
   "source": [
    "print(TB_xy)\n",
    "print(ScreenXY)"
   ]
  },
  {
   "cell_type": "code",
   "execution_count": null,
   "metadata": {},
   "outputs": [],
   "source": [
    "# save regressionn mapping in csv file\n",
    "TB_xy_copy = TB_xy.copy()\n",
    "ScreenXY_copy = ScreenXY.copy()\n",
    "\n",
    "reg_dobot_points = pd.DataFrame(TB_xy_copy,columns=['TurtlebotX','TurtlebotY'])\n",
    "reg_screen_points = pd.DataFrame(ScreenXY_copy,columns=['ScreenX','ScreenY'])\n",
    "reg_points_df = reg_screen_points.join(reg_dobot_points)\n",
    "print(reg_points_df)\n",
    "# print(reg_dobot_points)\n",
    "# print(reg_screen_points)\n",
    "\n",
    "reg_points_df.to_csv('RegPointSaved.csv')\n"
   ]
  },
  {
   "cell_type": "code",
   "execution_count": null,
   "metadata": {},
   "outputs": [],
   "source": [
    "# Use the previous saved regression and calibration to run dobot PTP\n",
    "\n",
    "saved_reg_points = pd.read_csv('RegPointSaved.csv', index_col = 0)\n",
    "saved_reg_points[['ScreenX','ScreenY']]\n",
    "reg = LinearRegression().fit(saved_reg_points[['ScreenX','ScreenY']], saved_reg_points[['TurtlebotX','TurtlebotY']])\n",
    "reg.score(saved_reg_points[['ScreenX','ScreenY']],saved_reg_points[['TurtlebotX','TurtlebotY']])"
   ]
  }
 ],
 "metadata": {
  "interpreter": {
   "hash": "e7370f93d1d0cde622a1f8e1c04877d8463912d04d973331ad4851f04de6915a"
  },
  "kernelspec": {
   "display_name": "Python 3 (ipykernel)",
   "language": "python",
   "name": "python3"
  },
  "language_info": {
   "codemirror_mode": {
    "name": "ipython",
    "version": 3
   },
   "file_extension": ".py",
   "mimetype": "text/x-python",
   "name": "python",
   "nbconvert_exporter": "python",
   "pygments_lexer": "ipython3",
   "version": "3.8.10"
  }
 },
 "nbformat": 4,
 "nbformat_minor": 2
}
