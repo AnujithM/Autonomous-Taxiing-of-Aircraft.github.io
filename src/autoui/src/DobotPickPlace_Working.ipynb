{
 "cells": [
  {
   "cell_type": "code",
   "execution_count": 1,
   "metadata": {},
   "outputs": [
    {
     "name": "stdout",
     "output_type": "stream",
     "text": [
      "The dll you use is 64-bit, in order to run smoothly, please ensure that your python environment is also 64-bit\n",
      "The python environment is: ('64bit', 'WindowsPE')\n",
      "Connect status: DobotConnect_NoError\n"
     ]
    }
   ],
   "source": [
    "import cv2\n",
    "import pandas as pd\n",
    "import numpy as np\n",
    "import time\n",
    "import math\n",
    "import threading\n",
    "import keyboard\n",
    "\n",
    "from sklearn.linear_model import LinearRegression\n",
    "\n",
    "import DobotDllType as dType  # dobot control\n",
    "\n",
    "source1 = 0\n",
    "CON_STR = {\n",
    "    dType.DobotConnect.DobotConnect_NoError:  \"DobotConnect_NoError\",\n",
    "    dType.DobotConnect.DobotConnect_NotFound: \"DobotConnect_NotFound\",\n",
    "    dType.DobotConnect.DobotConnect_Occupied: \"DobotConnect_Occupied\"}\n",
    "api = dType.load()\n",
    " \n",
    "#Connect Dobot\n",
    "state = dType.ConnectDobot(api, \"\", 115200)[0]\n",
    "print(\"Connect status:\",CON_STR[state])"
   ]
  },
  {
   "cell_type": "code",
   "execution_count": 114,
   "metadata": {},
   "outputs": [],
   "source": [
    "dType.DisconnectDobot(api)"
   ]
  },
  {
   "cell_type": "code",
   "execution_count": 42,
   "metadata": {},
   "outputs": [
    {
     "data": {
      "text/plain": [
       "[0]"
      ]
     },
     "execution_count": 42,
     "metadata": {},
     "output_type": "execute_result"
    }
   ],
   "source": [
    "# dType.ClearAllAlarmsState(api)\n",
    "\n",
    "# dType.SetHOMEParams(api,150,0,0,0,0)\n",
    "# dType.SetQueuedCmdStopExec(api)\n",
    "# dType.SetPTPCmd(api, dType.PTPMode.PTPMOVLXYZINCMode, 0, 0, 20, 0, isQueued = 0)\n",
    "# dType.SetQueuedCmdStartExec(api)\n",
    "dType.SetEndEffectorSuctionCup(api,1,0,0)\n",
    "\n",
    "# dType.SetPTPCommonParams(api, 75, 75, isQueued = 1)\n"
   ]
  },
  {
   "cell_type": "code",
   "execution_count": 2,
   "metadata": {},
   "outputs": [],
   "source": [
    "#finding the blue color using open cv and some threshold\n",
    "def findblue(frame):\n",
    "    blue = cv2.cvtColor(frame, cv2.COLOR_BGR2HSV)\n",
    "    bluelow = np.array([120,50,50])#replace with your HSV Values\n",
    "    bluehi = np.array([130,255,255])#replace with your HSV Values\n",
    "    mask = cv2.inRange(blue, bluelow, bluehi)\n",
    "    res = cv2.bitwise_and(frame, frame, mask=mask)\n",
    "    cnts, hir = cv2.findContours(mask, cv2.RETR_TREE, cv2.CHAIN_APPROX_SIMPLE)\n",
    "    if len(cnts) > 0 :\n",
    "        maxcontour = max(cnts, key = cv2.contourArea)\n",
    "        #finding center coordinates of the color\n",
    "        M = cv2.moments(maxcontour)\n",
    "        if M['m00'] > 0 and cv2.contourArea(maxcontour) > 2000:\n",
    "            cx = int(M['m10'] / M['m00'])\n",
    "            cy = int(M['m01'] / M['m00'])\n",
    "            return (cx, cy), True\n",
    "        else:\n",
    "            #320,240 center of the camera image, when there is no color\n",
    "            return (int(frame.shape[1]/2),int(frame.shape[0]/2)), False\n",
    "    else:\n",
    "        return (int(frame.shape[1]/2),int(frame.shape[0]/2)), False\n"
   ]
  },
  {
   "cell_type": "code",
   "execution_count": 3,
   "metadata": {},
   "outputs": [],
   "source": [
    "def commandDelay(lastIndex):\n",
    "    dType.SetQueuedCmdStartExec(api)\n",
    "    while lastIndex > dType.GetQueuedCmdCurrentIndex(api)[0]:\n",
    "        dType.dSleep(200)\n",
    "    dType.SetQueuedCmdStopExec(api)"
   ]
  },
  {
   "cell_type": "code",
   "execution_count": 4,
   "metadata": {},
   "outputs": [],
   "source": [
    "# function to move the dobot to the predicted x, y location based on click on the mapped screen\n",
    "def MoveDobot(predDoboX,predDoboY):\n",
    "    # dType.SetQueuedCmdStopExec(api)\n",
    "    # dType.SetQueuedCmdClear(api)\n",
    "    dType.ClearAllAlarmsState(api)\n",
    "    last_index = dType.SetPTPCmd(api, 1, predDoboX, predDoboY, 90, 0, isQueued = 1)[0]\n",
    "    # dType.SetQueuedCmdStartExec(api)\n",
    "    commandDelay(last_index)\n",
    "    # skipframes = True # for solving lag in frames"
   ]
  },
  {
   "cell_type": "code",
   "execution_count": 5,
   "metadata": {},
   "outputs": [],
   "source": [
    "def MoveDobotInstantly(predDoboX,predDoboY):\n",
    "    dType.SetQueuedCmdStopExec(api)\n",
    "    dType.ClearAllAlarmsState(api)\n",
    "    dType.SetQueuedCmdClear(api)\n",
    "    print(f\"Sending dobot to position{predDoboX},{predDoboY}\")\n",
    "    dType.SetPTPCmd(api, 1, predDoboX, predDoboY, 90, 0, isQueued = 0)\n",
    "    dType.SetQueuedCmdStartExec(api)\n",
    "    dType.ClearAllAlarmsState(api)\n",
    "\n"
   ]
  },
  {
   "cell_type": "code",
   "execution_count": 21,
   "metadata": {},
   "outputs": [],
   "source": [
    "def moveDoboSmoothly(x,y):\n",
    "    print(f\"moving dobot to point ({x},{y})\")\n",
    "    dType.ClearAllAlarmsState(api)\n",
    "    last_index = dType.SetPTPCmd(api, 1, x, y, 0, 0, isQueued = 0)[0]\n",
    "    commandDelay(last_index)"
   ]
  },
  {
   "cell_type": "code",
   "execution_count": 6,
   "metadata": {},
   "outputs": [],
   "source": [
    "def Grab():\n",
    "   \n",
    "    # dType.SetQueuedCmdStopExec(api)\n",
    "    print(\"GRAB started\")\n",
    "    dType.ClearAllAlarmsState(api)\n",
    "    \n",
    "\n",
    "\n",
    "    # last_index1 = dType.SetPTPCmd(api, dType.PTPMode.PTPMOVLXYZINCMode, 0, 0, -25, 0, isQueued = 0)[0]\n",
    "    # print(f\"last_index for going down = {last_index1}\")\n",
    "    # commandDelay(last_index1)\n",
    "    # # dType.SetQueuedCmdStartExec(api)    \n",
    "\n",
    "    dType.SetWAITCmd(api,1000,1)\n",
    "    \n",
    "    # suck\n",
    "    dType.SetEndEffectorSuctionCup(api,1,1,0)\n",
    "    # commandDelay(last_index)\n",
    "    dType.SetWAITCmd(api,1000,1)\n",
    "\n",
    "    # come up dobot going up\n",
    "    dType.SetQueuedCmdStopExec(api)\n",
    "    dType.ClearAllAlarmsState(api)\n",
    "    dType.SetQueuedCmdClear(api)\n",
    "    print(f\"Moving dobot up z direction downwards for grabbing\")\n",
    "    dType.SetPTPCmd(api, 7, 0, 0, 30, 0, isQueued = 0)\n",
    "    dType.SetQueuedCmdStartExec(api)\n",
    "    dType.ClearAllAlarmsState(api)\n",
    "\n",
    "    dType.SetWAITCmd(api,1000,1)\n"
   ]
  },
  {
   "cell_type": "code",
   "execution_count": 68,
   "metadata": {},
   "outputs": [
    {
     "name": "stdout",
     "output_type": "stream",
     "text": [
      "Starting Ungrab\n",
      "Moving dobot up in z direction for ungrabbing\n",
      "Completing ungrab\n"
     ]
    }
   ],
   "source": [
    "unGrab()\n",
    "# dType.ClearAllAlarmsState(api)"
   ]
  },
  {
   "cell_type": "code",
   "execution_count": 77,
   "metadata": {},
   "outputs": [
    {
     "ename": "IndentationError",
     "evalue": "expected an indented block (Temp/ipykernel_28300/2129480295.py, line 3)",
     "output_type": "error",
     "traceback": [
      "\u001b[1;36m  File \u001b[1;32m\"C:\\Users\\vinay\\AppData\\Local\\Temp/ipykernel_28300/2129480295.py\"\u001b[1;36m, line \u001b[1;32m3\u001b[0m\n\u001b[1;33m    dType.SetQueuedCmdStopExec(api)\u001b[0m\n\u001b[1;37m    ^\u001b[0m\n\u001b[1;31mIndentationError\u001b[0m\u001b[1;31m:\u001b[0m expected an indented block\n"
     ]
    }
   ],
   "source": [
    "# def MoveUp():\n",
    "   \n",
    "#     # dType.SetQueuedCmdStopExec(api)\n",
    "#     print(\"GRAB started\")\n",
    "#     dType.ClearAllAlarmsState(api)\n",
    "    \n",
    "\n",
    "    "
   ]
  },
  {
   "cell_type": "code",
   "execution_count": 7,
   "metadata": {},
   "outputs": [],
   "source": [
    "def unGrab():\n",
    "\n",
    "    print(\"Starting Ungrab\")\n",
    "    dType.ClearAllAlarmsState(api)\n",
    "\n",
    "\n",
    "\n",
    "\n",
    "    # last_index1 = dType.SetPTPCmd(api,1,0, 150, 30, 0, 0)[0]\n",
    "    # print(\"sending dobot to drop location\")\n",
    "    # print(f\"last_index1 above operation= {last_index1}\")\n",
    "    # commandDelay(last_index1)\n",
    "\n",
    "    dType.SetWAITCmd(api,2000,1)\n",
    "\n",
    "    # suck off\n",
    "    dType.SetEndEffectorSuctionCup(api,1,0,0)[0]\n",
    "    print(\"Completing ungrab\")\n",
    "    # print(f\"last_index for suck off ={last_index}\")\n",
    "    # commandDelay(last_index)\n",
    "    dType.SetWAITCmd(api,1000,1)\n",
    "\n"
   ]
  },
  {
   "cell_type": "code",
   "execution_count": 8,
   "metadata": {},
   "outputs": [],
   "source": [
    "# function to display the coordinates of the points clicked on the image \n",
    "\n",
    "def click_event(event, x, y, flags, params):\n",
    "  \n",
    "    # checking for left mouse clicks\n",
    "    if event == cv2.EVENT_LBUTTONDOWN:\n",
    "      # Predict the dobot XY points based on the screen XY clicked points\n",
    "     \n",
    "      Pred_DobotXYZ = reg.predict([[x,y]])[0]\n",
    "      print('predicted Dobot X,Y = ', reg.predict([[x,y]])[0])\n",
    "      \n",
    "      # move dobot to the point\n",
    "      MoveDobotInstantly(Pred_DobotXYZ[0],Pred_DobotXYZ[1])\n",
    "      \n",
    "      \n",
    "      # displaying the coordinates on the image window\n",
    "      font = cv2.FONT_HERSHEY_SIMPLEX \n",
    "      cv2.putText(img, str(x) + ',' + str(y), (x,y), font,1, (255, 0, 0), 2)\n",
    "      cv2.imshow('Image', img)\n",
    "\n",
    "    # checking for Right mouse clicks\n",
    "    if event == cv2.EVENT_RBUTTONDOWN:\n",
    "        \n",
    "        # displaying the coordinates on the Shell\n",
    "        print(\"Right Click\")\n",
    "        print('ScreenX = ', x, ' ScreenY = ', y)\n",
    "        \n",
    "        # add click point x,y to the list \n",
    "        ScreenXY.append((x,y))\n",
    "        \n",
    "        DobotPose = dType.GetPose(api)\n",
    "        print(f\"DoboX= {DobotPose[0]}, DoboY = {DobotPose[1]}\",)\n",
    "        DobotXYZ.append(DobotPose[:2])\n",
    "\n",
    "        # displaying the coordinates on the image window\n",
    "        font = cv2.FONT_HERSHEY_SIMPLEX\n",
    "        cv2.putText(img, str(x) + ',' + str(y), (x,y), font,1, (255, 0, 0), 2)\n",
    "        cv2.imshow('Image', img)\n",
    "\n"
   ]
  },
  {
   "cell_type": "code",
   "execution_count": 9,
   "metadata": {},
   "outputs": [],
   "source": [
    "DobotXYZ = [] # list to store the dobot xy for corresponding screen click point\n",
    "ScreenXY = [] # list of Screen Click (x pixel , y pixel) vector "
   ]
  },
  {
   "cell_type": "code",
   "execution_count": 15,
   "metadata": {},
   "outputs": [
    {
     "data": {
      "text/plain": [
       "[2365, 0]"
      ]
     },
     "execution_count": 15,
     "metadata": {},
     "output_type": "execute_result"
    }
   ],
   "source": [
    "dType.SetQueuedCmdClear(api)\n",
    "dType.SetQueuedCmdStopExec(api)\n",
    "dType,dType.SetHOMEParams(api,200,10,90,0,0)\n",
    "dType.SetQueuedCmdStartExec(api)\n",
    "dType.SetHOMECmd(api,0,0)"
   ]
  },
  {
   "cell_type": "code",
   "execution_count": 14,
   "metadata": {},
   "outputs": [],
   "source": [
    "dType.ClearAllAlarmsState(api)"
   ]
  },
  {
   "cell_type": "code",
   "execution_count": 16,
   "metadata": {},
   "outputs": [
    {
     "name": "stdout",
     "output_type": "stream",
     "text": [
      "Sending dobot to position61.53852726828433,47.96886348617494\n",
      "Sending dobot to position50.75829805999456,47.66323451953099\n",
      "Sending dobot to position62.365672875124574,44.34647410118134\n",
      "Sending dobot to position53.6623029685133,50.58121870115673\n",
      "Moving dobot in z direction up by 30 mm\n",
      "Moving dobot in z direction up by 30 mm\n",
      "Sending dobot to position63.608143613549544,41.95113944494477\n",
      "Sending dobot to position57.39415441513802,51.092113266290426\n",
      "Sending dobot to position67.3369576913559,37.19573501323839\n",
      "Sending dobot to position54.906876500735564,51.83178335042487\n",
      "Sending dobot to position65.26617312731435,41.18795944029921\n",
      "Sending dobot to position54.07318886874788,44.11137489607063\n",
      "Moving dobot in z direction downwards by 30 mm\n",
      "Moving dobot in z direction downwards by 30 mm\n",
      "Moving dobot in z direction up by 30 mm\n",
      "Sending dobot to position69.41054598046065,38.06470966018372\n",
      "Sending dobot to position56.97555827097972,44.193659617859396\n",
      "Moving dobot in z direction downwards by 30 mm\n",
      "Sending dobot to position50.76086814130241,52.119333670703384\n",
      "Sending dobot to position59.879563179498405,47.11164379948508\n",
      "Sending dobot to position68.16643973574884,37.624344856583264\n",
      "Sending dobot to position58.63452235976564,45.0508793045492\n",
      "predicted Dobot X,Y =  [190.50324227  80.38675065]\n",
      "Sending dobot to position190.5032422740662,80.38675064684992\n",
      "Sending dobot to position48.68774713970828,52.06055886942573\n",
      "predicted Dobot X,Y =  [165.65406115 128.69854369]\n",
      "Sending dobot to position165.65406114932287,128.6985436944141\n",
      "Sending dobot to position232.6741168851162,-127.85090351218781\n",
      "Sending dobot to position246.77017147718033,-129.4767344776689\n",
      "Sending dobot to position64.84991342070867,38.340505020206706\n",
      "Sending dobot to position240.5473038160688,-135.72955772400974\n",
      "Sending dobot to position68.9886788237286,25.494857092078746\n",
      "Sending dobot to position253.4111679949396,-117.13565742856474\n",
      "Sending dobot to position69.81792722436631,25.518367012589806\n",
      "Sending dobot to position67.75204917918529,38.0176898191616\n",
      "Sending dobot to position68.99008068626017,27.92545662908185\n",
      "moving dobot to destination\n",
      "Sending dobot to position-100,200\n",
      "moving dobot to destination\n",
      "Sending dobot to position-100,200\n",
      "Sending dobot to position253.40018673844222,-136.17535380175582\n",
      "Sending dobot to position64.02043137631574,37.911895176861776\n",
      "Sending dobot to position246.356014564372,-128.67828959225676\n",
      "Sending dobot to position251.32636480558224,-137.4494283715352\n",
      "Sending dobot to position67.74901181036682,32.751390822321525\n",
      "Sending dobot to position255.8991468406079,-116.66002774419769\n",
      "Sending dobot to position69.81769358061104,25.113267089755936\n",
      "Sending dobot to position66.92233349103702,37.18398005298286\n",
      "Sending dobot to position68.98914611123911,26.30505693774643\n",
      "Sending dobot to position68.1673743107699,39.244744547918685\n",
      "Sending dobot to position68.15826220431461,23.445847557398395\n",
      "Sending dobot to position68.16410329819621,33.57334562824474\n",
      "Moving dobot in z direction downwards by 30 mm\n",
      "Sending dobot to position250.07992212331783,-141.94079240347412\n",
      "Sending dobot to position68.16293507941987,31.547846014075503\n",
      "Sending dobot to position250.49454632363665,-141.9290374432186\n",
      "Sending dobot to position254.65293780209873,-120.74629185330286\n",
      "Sending dobot to position68.57732563598347,31.154501051497164\n",
      "Moving dobot in z direction downwards by 30 mm\n",
      "Sending dobot to position248.83324579729816,-146.83725635824692\n",
      "Sending dobot to position68.9919498363023,31.166256011752694\n",
      "Sending dobot to position248.83324579729816,-146.83725635824692\n",
      "Sending dobot to position252.99116998824968,-126.46471061399893\n",
      "Sending dobot to position68.57826021100448,32.774900742832585\n",
      "Sending dobot to position70.23021498713246,21.479122744506867\n",
      "Sending dobot to position68.99335169883386,33.5968555487558\n",
      "Sending dobot to position69.40190116151587,23.076012515331172\n",
      "Sending dobot to position68.99358534258914,34.00195547158967\n",
      "Sending dobot to position70.23044863088774,21.884222667340623\n",
      "Sending dobot to position68.99265076756808,32.381555780254246\n",
      "Sending dobot to position69.39863014894217,17.404613595657224\n",
      "Sending dobot to position68.57849385475976,33.180000665666455\n",
      "Sending dobot to position69.81652536183469,23.087767475586702\n",
      "Sending dobot to position68.16386965444093,33.168245705410925\n",
      "Sending dobot to position69.81652536183469,23.087767475586702\n",
      "Sending dobot to position68.57896114227032,33.99020051133414\n",
      "Sending dobot to position70.6462410499829,23.9214772417655\n",
      "Sending dobot to position68.99405263009965,34.81215531725735\n",
      "Sending dobot to position68.98680967368648,22.254057709407903\n",
      "Sending dobot to position69.82236645571629,33.215265546433045\n",
      "Sending dobot to position69.40166751776064,22.670912592497302\n",
      "Sending dobot to position68.57919478602554,34.39530043416801\n",
      "Sending dobot to position69.81722629310048,24.303067244088254\n",
      "Sending dobot to position69.40844318666325,34.41881035467907\n",
      "Sending dobot to position70.2313832059088,23.5046223586761\n",
      "Sending dobot to position68.57942842978082,34.80040035700182\n",
      "Sending dobot to position69.81605807432419,22.277567629918963\n",
      "Sending dobot to position69.40774225539747,33.203510586177515\n",
      "Sending dobot to position71.47408758808893,21.514387625273457\n",
      "Sending dobot to position68.99265076756808,32.381555780254246\n",
      "Sending dobot to position69.81559078681363,21.46736778425128\n",
      "Sending dobot to position68.5796620735361,35.20550027983569\n",
      "Sending dobot to position69.81675900558997,23.492867398420515\n",
      "Sending dobot to position69.40797589915275,33.60861050901133\n",
      "Sending dobot to position70.2309159183983,22.694422513008362\n",
      "Sending dobot to position68.99311805507858,33.191755625921985\n",
      "Sending dobot to position70.23021498713246,21.479122744506867\n",
      "Sending dobot to position68.99381898634437,34.40705539442354\n",
      "Sending dobot to position70.2309159183983,22.694422513008362\n",
      "Sending dobot to position68.99311805507858,33.191755625921985\n",
      "Sending dobot to position70.64577376247234,23.11127739609782\n",
      "Sending dobot to position68.99475356136543,36.02745508575896\n",
      "Sending dobot to position70.2309159183983,22.694422513008362\n"
     ]
    }
   ],
   "source": [
    " # Main program\n",
    " \n",
    "cap = cv2.VideoCapture(1)   \n",
    "cap.set(3, 1920)\n",
    "cap.set(4, 1080)\n",
    "\n",
    "# variables \n",
    "pTime = 0\n",
    "cTime = 0\n",
    "prev_DoboXY = [150,0]\n",
    "global skipframes\n",
    "# skipframes = True\n",
    "\n",
    "pausefollow = False\n",
    "\n",
    "\n",
    "# print(dType.GetAlarmsState(api))\n",
    "\n",
    "while True:\n",
    "    success, img = cap.read()\n",
    "    frame = img.copy()\n",
    "    # print(f\"size of img = {img.shape[1]},{img.shape[0]}\")\n",
    "\n",
    "    # Calculating frames per second\n",
    "    cTime = time.time()\n",
    "    fps = 1 / (cTime - pTime)\n",
    "    pTime = cTime\n",
    "    \n",
    "    # display fps on top left\n",
    "    cv2.putText(img, str(int(fps)), (10, 70), cv2.FONT_HERSHEY_PLAIN, 3,(255, 0, 255), 3)\n",
    "\n",
    "    # click event for mapping screen xy to dobot xy using linear regression\n",
    "    # left click for ptp motion and right click to record screen and dobot xy for mapping \n",
    "    cv2.namedWindow('Image',cv2.WINDOW_FULLSCREEN)\n",
    "    cv2.setMouseCallback('Image', click_event)\n",
    "\n",
    "    # get blue object center coordinates and put on the img \n",
    "    (bluex, bluey), blogic = findblue(img)\n",
    "    cv2.putText(img, str(bluex) + \" , \" + str (bluey), (bluex - 100 ,bluey - 30), cv2.FONT_HERSHEY_PLAIN, 3,(0, 255, 0), 3)\n",
    " \n",
    "    # draw red circle on the blue object center\n",
    "    red = [0,0,255]\n",
    "    cv2.circle(img,(bluex,bluey),20,red,2)\n",
    "   \n",
    "    # print(\"skipframes = \",skipframes)\n",
    "    dType.ClearAllAlarmsState(api)\n",
    "\n",
    "    # if blue object is present\n",
    "    if blogic: \n",
    "\n",
    "        # predict dobot x,y based on blue object screen x,y using reg\n",
    "        Pred_DobotXYZ = reg.predict([[bluex,bluey]])[0]\n",
    "        \n",
    "        # check if the current blue objectg center is at a significant distance from its previous position\n",
    "        deltaBlue = math.dist(Pred_DobotXYZ, prev_DoboXY)\n",
    "        # print(f\"deltaX = {deltaX} and deltaY = {deltaY}\")\n",
    "        cv2.putText(img, \"deltaX = \" + str(round(deltaBlue,2)), (10,120), cv2.FONT_HERSHEY_PLAIN, 2,(0, 255, 0), 2)\n",
    "        \n",
    "        if deltaBlue > 10 and pausefollow == False:\n",
    "            # skipframes = False # for solving lag in frames\n",
    "\n",
    "            # send dobot to object\n",
    "            # dType.SetQueuedCmdClear(api)\n",
    "            # dType.ClearAllAlarmsState(api)\n",
    "            p1 = threading.Thread(target=MoveDobotInstantly,args=[Pred_DobotXYZ[0],Pred_DobotXYZ[1]])\n",
    "            p1.start()\n",
    "            p1.join()\n",
    "            # moveDoboSmoothly(Pred_DobotXYZ[0],Pred_DobotXYZ[1])\n",
    "            # dType.SetWAITCmd(api,1000,1)\n",
    "\n",
    "            # Grab()\n",
    "            # dType.SetWAITCmd(api,1000,1)\n",
    "            \n",
    "            # unGrab()\n",
    "            # dType.SetWAITCmd(api,1000,1)\n",
    "            \n",
    "            prev_DoboXY = Pred_DobotXYZ\n",
    "        \n",
    "    if keyboard.is_pressed('g'):\n",
    "        dType.ClearAllAlarmsState(api)\n",
    "        print(\" you pressed g for grabbing\")\n",
    "        p2 = threading.Thread(target=Grab)\n",
    "        p2.start()\n",
    "\n",
    "    if keyboard.is_pressed('d'):\n",
    "        dType.ClearAllAlarmsState(api)\n",
    "        print(\"moving dobot to destination\")\n",
    "        p4 = threading.Thread(target=MoveDobotInstantly,args = [-100,200])\n",
    "        p4.start()\n",
    "\n",
    "    if keyboard.is_pressed('w'):\n",
    "        #  dobot going down\n",
    "        pausefollow = True\n",
    "        dType.SetQueuedCmdStopExec(api)\n",
    "        dType.ClearAllAlarmsState(api)\n",
    "        dType.SetQueuedCmdClear(api)\n",
    "        print(f\"Moving dobot in z direction up by 30 mm\")\n",
    "        dType.SetPTPCmd(api, 7, 0, 0, 30, 0, isQueued = 0)\n",
    "        dType.SetQueuedCmdStartExec(api)\n",
    "        dType.ClearAllAlarmsState(api)\n",
    "        pausefollow = True\n",
    "\n",
    "\n",
    "    if keyboard.is_pressed('s'):\n",
    "        #  dobot going down\n",
    "        dType.SetQueuedCmdStopExec(api)\n",
    "        dType.ClearAllAlarmsState(api)\n",
    "        dType.SetQueuedCmdClear(api)\n",
    "        print(f\"Moving dobot in z direction downwards by 30 mm\")\n",
    "        dType.SetPTPCmd(api, 7, 0, 0, -30, 0, isQueued = 0)\n",
    "        dType.SetQueuedCmdStartExec(api)\n",
    "        dType.ClearAllAlarmsState(api)\n",
    "        pausefollow = True\n",
    "\n",
    "    if keyboard.is_pressed('u'):\n",
    "        dType.ClearAllAlarmsState(api)\n",
    "        print(\" you pressed g for grabbing\")\n",
    "        p3 = threading.Thread(target=unGrab)\n",
    "        p3.start()\n",
    "    \n",
    "    if keyboard.is_pressed('r'):\n",
    "        pausefollow == False\n",
    "\n",
    "\n",
    "        # else:\n",
    "        #     p1.join()\n",
    "    #show image \n",
    "    cv2.imshow(\"Image\", img)\n",
    "\n",
    "    if cv2.waitKey(1) & 0xFF == 13:  # close window when enter is pressed\n",
    "        dType.ClearAllAlarmsState(api)\n",
    "        break\n",
    "\n",
    "cv2.destroyAllWindows()\n",
    "cap.release()"
   ]
  },
  {
   "cell_type": "code",
   "execution_count": 40,
   "metadata": {},
   "outputs": [],
   "source": [
    "dType.DisconnectDobot(api)"
   ]
  },
  {
   "cell_type": "code",
   "execution_count": 13,
   "metadata": {},
   "outputs": [
    {
     "data": {
      "text/plain": [
       "[[246.27597045898438, -160.95997619628906],\n",
       " [139.01065063476562, -212.9073028564453],\n",
       " [206.52716064453125, 7.7322516441345215],\n",
       " [318.00830078125, 23.6977596282959],\n",
       " [291.40545654296875, 165.14584350585938],\n",
       " [113.01554870605469, 188.7032928466797]]"
      ]
     },
     "execution_count": 13,
     "metadata": {},
     "output_type": "execute_result"
    }
   ],
   "source": [
    "DobotXYZ"
   ]
  },
  {
   "cell_type": "code",
   "execution_count": 14,
   "metadata": {},
   "outputs": [
    {
     "data": {
      "text/plain": [
       "[(1271, 355), (1377, 584), (922, 431), (912, 200), (619, 220), (535, 594)]"
      ]
     },
     "execution_count": 14,
     "metadata": {},
     "output_type": "execute_result"
    }
   ],
   "source": [
    "ScreenregXY"
   ]
  },
  {
   "cell_type": "code",
   "execution_count": 15,
   "metadata": {},
   "outputs": [
    {
     "name": "stdout",
     "output_type": "stream",
     "text": [
      "0.9988735590988629\n",
      "[[ 0.02688019 -0.48397412]\n",
      " [-0.48301414 -0.03736792]]\n",
      "[386.09010163 470.46078415]\n"
     ]
    }
   ],
   "source": [
    "reg = LinearRegression().fit(ScreenXY, DobotXYZ)\n",
    "print(reg.score(ScreenXY, DobotXYZ))\n",
    "print(reg.coef_)\n",
    "print(reg.intercept_)"
   ]
  },
  {
   "cell_type": "code",
   "execution_count": 16,
   "metadata": {},
   "outputs": [
    {
     "name": "stdout",
     "output_type": "stream",
     "text": [
      "   ScreenX  ScreenY       DoboX       DoboY\n",
      "0     1271      355  246.275970 -160.959976\n",
      "1     1377      584  139.010651 -212.907303\n",
      "2      922      431  206.527161    7.732252\n",
      "3      912      200  318.008301   23.697760\n",
      "4      619      220  291.405457  165.145844\n",
      "5      535      594  113.015549  188.703293\n"
     ]
    }
   ],
   "source": [
    "# save regressionn mapping in csv file\n",
    "Dobotxyz_copy = DobotXYZ.copy()\n",
    "Screenxyz_copy = ScreenXY.copy()\n",
    "\n",
    "reg_dobot_points = pd.DataFrame(Dobotxyz_copy,columns=['DoboX','DoboY'])\n",
    "reg_screen_points = pd.DataFrame(Screenxyz_copy,columns=['ScreenX','ScreenY'])\n",
    "reg_points_df = reg_screen_points.join(reg_dobot_points)\n",
    "print(reg_points_df)\n",
    "# print(reg_dobot_points)\n",
    "# print(reg_screen_points)\n",
    "\n",
    "reg_points_df.to_csv('RegPointSaved.csv')\n"
   ]
  },
  {
   "cell_type": "code",
   "execution_count": 10,
   "metadata": {},
   "outputs": [
    {
     "data": {
      "text/plain": [
       "0.9993241844904308"
      ]
     },
     "execution_count": 10,
     "metadata": {},
     "output_type": "execute_result"
    }
   ],
   "source": [
    "# Use the previous saved regression and calibration to run dobot PTP\n",
    "\n",
    "saved_reg_points = pd.read_csv('RegPointSaved.csv', index_col = 0)\n",
    "saved_reg_points[['ScreenX','ScreenY']]\n",
    "reg = LinearRegression().fit(saved_reg_points[['ScreenX','ScreenY']], saved_reg_points[['DoboX','DoboY']])\n",
    "reg.score(saved_reg_points[['ScreenX','ScreenY']],saved_reg_points[['DoboX','DoboY']])"
   ]
  },
  {
   "cell_type": "code",
   "execution_count": 22,
   "metadata": {},
   "outputs": [],
   "source": [
    "dType.DisconnectDobot(api)\n"
   ]
  },
  {
   "cell_type": "code",
   "execution_count": 11,
   "metadata": {},
   "outputs": [],
   "source": [
    "def commandDelay(lastIndex):\n",
    "    dType.SetQueuedCmdStartExec(api)\n",
    "    while lastIndex > dType.GetQueuedCmdCurrentIndex(api)[0]:\n",
    "        dType.dSleep(200)\n",
    "    dType.SetQueuedCmdStopExec(api)"
   ]
  },
  {
   "cell_type": "code",
   "execution_count": 72,
   "metadata": {},
   "outputs": [
    {
     "data": {
      "text/plain": [
       "int"
      ]
     },
     "execution_count": 72,
     "metadata": {},
     "output_type": "execute_result"
    }
   ],
   "source": [
    "i = dType.GetQueuedCmdCurrentIndex(api)[0]\n",
    "type(i)\n"
   ]
  },
  {
   "cell_type": "code",
   "execution_count": 75,
   "metadata": {},
   "outputs": [
    {
     "data": {
      "text/plain": [
       "int"
      ]
     },
     "execution_count": 75,
     "metadata": {},
     "output_type": "execute_result"
    }
   ],
   "source": [
    "ex = dType.SetPTPCmd(api, 1, 150, 0, -20, 0, isQueued = 1)[0]\n",
    "type(ex)\n"
   ]
  },
  {
   "cell_type": "code",
   "execution_count": 27,
   "metadata": {},
   "outputs": [],
   "source": [
    "\n",
    "if __name__ == '__main__':\n",
    "    p1 = multiprocessing.Process(target=Grab)\n",
    "    p1.start()\n",
    "\n"
   ]
  },
  {
   "cell_type": "code",
   "execution_count": 31,
   "metadata": {},
   "outputs": [
    {
     "name": "stdout",
     "output_type": "stream",
     "text": [
      "Ungrab\n",
      "last_index1 for destination= 51\n",
      "last_index for suck off =0\n"
     ]
    }
   ],
   "source": [
    "# dType.SetEndEffectorSuctionCup(api,1,0,0)\n",
    "unGrab()"
   ]
  },
  {
   "cell_type": "code",
   "execution_count": 22,
   "metadata": {},
   "outputs": [],
   "source": [
    "i = 0\n",
    "p = []\n",
    "while i < 3:\n",
    "    p1 = multiprocessing.Process(target=MoveDobot,args=[180,0])\n",
    "    p.append(p1)        \n",
    "    # # moveDoboSmoothly(180,0)\n",
    "    # p2 = multiprocessing.Process(target=Grab)\n",
    "    \n",
    "    # p3 = multiprocessing.Process(target=MoveDobot,args=[240,50])\n",
    "    # # moveDoboSmoothly(200,40)\n",
    "\n",
    "    # p4 = multiprocessing.Process(target=unGrab)\n",
    "    # unGrab()\n",
    "    # dType.SetWAITCmd(api,1000)\n",
    "    dType.ClearAllAlarmsState(api)\n",
    "    p1.start()\n",
    "    # p2.start()\n",
    "    # p3.start()\n",
    "    i = i + 1\n",
    "for process in p:\n",
    "    process.join()"
   ]
  },
  {
   "cell_type": "code",
   "execution_count": 29,
   "metadata": {},
   "outputs": [
    {
     "data": {
      "text/plain": [
       "[0]"
      ]
     },
     "execution_count": 29,
     "metadata": {},
     "output_type": "execute_result"
    }
   ],
   "source": [
    "dType.SetEndEffectorSuctionCup(api,1,0,0)"
   ]
  },
  {
   "cell_type": "code",
   "execution_count": 32,
   "metadata": {},
   "outputs": [
    {
     "name": "stdout",
     "output_type": "stream",
     "text": [
      "Sending dobot to position180,40\n",
      "done...\n"
     ]
    }
   ],
   "source": [
    "import threading\n",
    "if __name__ == '__main__':\n",
    "    p1 = threading.Thread(target=MoveDobotInstantly,args=(180,40))\n",
    "    p1.start()\n",
    "    p1.join()\n",
    "    print(\"done...\")\n",
    "    \n"
   ]
  },
  {
   "cell_type": "code",
   "execution_count": null,
   "metadata": {},
   "outputs": [],
   "source": []
  }
 ],
 "metadata": {
  "interpreter": {
   "hash": "46365801e78b90e63d0d4bbcbdee808f6be0f043165976ff432301ce24c784be"
  },
  "kernelspec": {
   "display_name": "Python 3.9.7 64-bit ('base': conda)",
   "language": "python",
   "name": "python3"
  },
  "language_info": {
   "codemirror_mode": {
    "name": "ipython",
    "version": 3
   },
   "file_extension": ".py",
   "mimetype": "text/x-python",
   "name": "python",
   "nbconvert_exporter": "python",
   "pygments_lexer": "ipython3",
   "version": "3.9.7"
  },
  "orig_nbformat": 4
 },
 "nbformat": 4,
 "nbformat_minor": 2
}
